{
 "cells": [
  {
   "cell_type": "markdown",
   "id": "a122cc93",
   "metadata": {},
   "source": [
    "### Import Libraries"
   ]
  },
  {
   "cell_type": "code",
   "execution_count": 4,
   "id": "6a13e679",
   "metadata": {},
   "outputs": [],
   "source": [
    "import numpy as np\n",
    "import pandas as pd \n",
    "import seaborn as sns\n",
    "import matplotlib.pyplot as plt\n",
    "import sklearn\n",
    "from sklearn.ensemble import RandomForestClassifier\n",
    "from sklearn.ensemble import RandomForestRegressor\n",
    "from sklearn.model_selection import train_test_split\n",
    "from sklearn.metrics import accuracy_score\n",
    "from sklearn.model_selection import train_test_split\n",
    "from sklearn.linear_model import LinearRegression\n",
    "from sklearn.preprocessing import PolynomialFeatures\n",
    "from sklearn.metrics import mean_squared_error"
   ]
  },
  {
   "cell_type": "markdown",
   "id": "73ba80ac",
   "metadata": {},
   "source": [
    "### Data Preprocessing "
   ]
  },
  {
   "cell_type": "code",
   "execution_count": 5,
   "id": "a5b215d2",
   "metadata": {},
   "outputs": [],
   "source": [
    "my_data=pd.read_csv('c:/Users/karim/Downloads/boston.csv')"
   ]
  },
  {
   "cell_type": "code",
   "execution_count": 6,
   "id": "61e7a753",
   "metadata": {},
   "outputs": [
    {
     "name": "stdout",
     "output_type": "stream",
     "text": [
      "CRIM       0\n",
      "ZN         0\n",
      "INDUS      0\n",
      "CHAS       0\n",
      "NOX        0\n",
      "RM         0\n",
      "AGE        0\n",
      "DIS        0\n",
      "RAD        0\n",
      "TAX        0\n",
      "PTRATIO    0\n",
      "B          0\n",
      "LSTAT      0\n",
      "MEDV       0\n",
      "dtype: int64\n"
     ]
    }
   ],
   "source": [
    "print(my_data.isnull().sum())"
   ]
  },
  {
   "cell_type": "markdown",
   "id": "078c0707",
   "metadata": {},
   "source": [
    "# Split Target and data"
   ]
  },
  {
   "cell_type": "code",
   "execution_count": 7,
   "id": "9fb99fac",
   "metadata": {},
   "outputs": [],
   "source": [
    "X = my_data.drop('MEDV', axis=1) \n",
    "y = my_data['MEDV']"
   ]
  },
  {
   "cell_type": "code",
   "execution_count": 8,
   "id": "8524a8f5",
   "metadata": {},
   "outputs": [],
   "source": [
    "X_train, X_test, y_train, y_test = train_test_split(X, y, test_size=0.2, random_state=42)"
   ]
  },
  {
   "cell_type": "markdown",
   "id": "65329cd7",
   "metadata": {},
   "source": [
    "# Liniar Regression "
   ]
  },
  {
   "cell_type": "code",
   "execution_count": 9,
   "id": "335c467b",
   "metadata": {},
   "outputs": [
    {
     "name": "stdout",
     "output_type": "stream",
     "text": [
      "Linear Regression MSE: 24.29\n"
     ]
    }
   ],
   "source": [
    "lr = LinearRegression()\n",
    "lr.fit(X_train, y_train)\n",
    "y_pred_lr = lr.predict(X_test)\n",
    "mse_lr = mean_squared_error(y_test, y_pred_lr)\n",
    "print(f'Linear Regression MSE: {mse_lr:.2f}')"
   ]
  },
  {
   "cell_type": "markdown",
   "id": "99661d00",
   "metadata": {},
   "source": [
    "## Poly Regression"
   ]
  },
  {
   "cell_type": "code",
   "execution_count": 10,
   "id": "a6ccfc73",
   "metadata": {},
   "outputs": [
    {
     "name": "stdout",
     "output_type": "stream",
     "text": [
      "Polynomial Regression (degree=2) MSE: 14.26\n"
     ]
    }
   ],
   "source": [
    "poly = PolynomialFeatures(degree=2) \n",
    "X_train_poly = poly.fit_transform(X_train)\n",
    "X_test_poly = poly.transform(X_test)\n",
    "\n",
    "pr = LinearRegression()\n",
    "pr.fit(X_train_poly, y_train)\n",
    "y_pred_pr = pr.predict(X_test_poly)\n",
    "mse_pr = mean_squared_error(y_test, y_pred_pr)\n",
    "print(f'Polynomial Regression (degree=2) MSE: {mse_pr:.2f}')\n"
   ]
  },
  {
   "cell_type": "markdown",
   "id": "0b219a40",
   "metadata": {},
   "source": [
    "### The Best model "
   ]
  },
  {
   "cell_type": "code",
   "execution_count": 11,
   "id": "5d7edf8d",
   "metadata": {},
   "outputs": [
    {
     "name": "stdout",
     "output_type": "stream",
     "text": [
      "أفضل موديل: Polynomial Regression\n"
     ]
    }
   ],
   "source": [
    "if mse_lr < mse_pr:\n",
    "    print(\"أفضل موديل: Linear Regression\")\n",
    "else:\n",
    "    print(\"أفضل موديل: Polynomial Regression\")"
   ]
  }
 ],
 "metadata": {
  "kernelspec": {
   "display_name": "Python 3",
   "language": "python",
   "name": "python3"
  },
  "language_info": {
   "codemirror_mode": {
    "name": "ipython",
    "version": 3
   },
   "file_extension": ".py",
   "mimetype": "text/x-python",
   "name": "python",
   "nbconvert_exporter": "python",
   "pygments_lexer": "ipython3",
   "version": "3.13.5"
  }
 },
 "nbformat": 4,
 "nbformat_minor": 5
}
